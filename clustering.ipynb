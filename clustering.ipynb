{
 "cells": [
  {
   "cell_type": "code",
   "execution_count": 1,
   "id": "42bd7196",
   "metadata": {},
   "outputs": [
    {
     "data": {
      "text/html": [
       "<div>\n",
       "<style scoped>\n",
       "    .dataframe tbody tr th:only-of-type {\n",
       "        vertical-align: middle;\n",
       "    }\n",
       "\n",
       "    .dataframe tbody tr th {\n",
       "        vertical-align: top;\n",
       "    }\n",
       "\n",
       "    .dataframe thead th {\n",
       "        text-align: right;\n",
       "    }\n",
       "</style>\n",
       "<table border=\"1\" class=\"dataframe\">\n",
       "  <thead>\n",
       "    <tr style=\"text-align: right;\">\n",
       "      <th></th>\n",
       "      <th>income</th>\n",
       "      <th>age</th>\n",
       "    </tr>\n",
       "  </thead>\n",
       "  <tbody>\n",
       "    <tr>\n",
       "      <th>0</th>\n",
       "      <td>101743</td>\n",
       "      <td>58</td>\n",
       "    </tr>\n",
       "    <tr>\n",
       "      <th>1</th>\n",
       "      <td>49597</td>\n",
       "      <td>27</td>\n",
       "    </tr>\n",
       "    <tr>\n",
       "      <th>2</th>\n",
       "      <td>36517</td>\n",
       "      <td>52</td>\n",
       "    </tr>\n",
       "    <tr>\n",
       "      <th>3</th>\n",
       "      <td>33223</td>\n",
       "      <td>49</td>\n",
       "    </tr>\n",
       "    <tr>\n",
       "      <th>4</th>\n",
       "      <td>72994</td>\n",
       "      <td>53</td>\n",
       "    </tr>\n",
       "  </tbody>\n",
       "</table>\n",
       "</div>"
      ],
      "text/plain": [
       "   income  age\n",
       "0  101743   58\n",
       "1   49597   27\n",
       "2   36517   52\n",
       "3   33223   49\n",
       "4   72994   53"
      ]
     },
     "execution_count": 1,
     "metadata": {},
     "output_type": "execute_result"
    }
   ],
   "source": [
    "import pandas as pd\n",
    "import numpy as np\n",
    "ageinc=pd.read_csv('ageinc.csv')\n",
    "ageinc.head()"
   ]
  },
  {
   "cell_type": "markdown",
   "id": "b927e17c",
   "metadata": {},
   "source": [
    "# Part1:使用 ageinc.csv 資料集，使用 k-means 分群法進行分群"
   ]
  },
  {
   "cell_type": "markdown",
   "id": "abcf12f3",
   "metadata": {},
   "source": [
    "標準化ageinc.csv,建立dataframe標籤"
   ]
  },
  {
   "cell_type": "code",
   "execution_count": 2,
   "id": "7549c351",
   "metadata": {},
   "outputs": [],
   "source": [
    "#z-score 函式 - sklearn version\n",
    "from sklearn.preprocessing import StandardScaler\n",
    "scale = StandardScaler() #z-scaler物件\n",
    "ageinc_scaled = pd.DataFrame(scale.fit_transform(ageinc),\n",
    "                                columns=ageinc.keys())"
   ]
  },
  {
   "cell_type": "code",
   "execution_count": 3,
   "id": "7a0113a6",
   "metadata": {},
   "outputs": [
    {
     "data": {
      "text/html": [
       "<div>\n",
       "<style scoped>\n",
       "    .dataframe tbody tr th:only-of-type {\n",
       "        vertical-align: middle;\n",
       "    }\n",
       "\n",
       "    .dataframe tbody tr th {\n",
       "        vertical-align: top;\n",
       "    }\n",
       "\n",
       "    .dataframe thead th {\n",
       "        text-align: right;\n",
       "    }\n",
       "</style>\n",
       "<table border=\"1\" class=\"dataframe\">\n",
       "  <thead>\n",
       "    <tr style=\"text-align: right;\">\n",
       "      <th></th>\n",
       "      <th>income</th>\n",
       "      <th>age</th>\n",
       "    </tr>\n",
       "  </thead>\n",
       "  <tbody>\n",
       "    <tr>\n",
       "      <th>0</th>\n",
       "      <td>0.551088</td>\n",
       "      <td>1.694418</td>\n",
       "    </tr>\n",
       "    <tr>\n",
       "      <th>1</th>\n",
       "      <td>-0.777720</td>\n",
       "      <td>-1.131131</td>\n",
       "    </tr>\n",
       "    <tr>\n",
       "      <th>2</th>\n",
       "      <td>-1.111030</td>\n",
       "      <td>1.147537</td>\n",
       "    </tr>\n",
       "    <tr>\n",
       "      <th>3</th>\n",
       "      <td>-1.194969</td>\n",
       "      <td>0.874097</td>\n",
       "    </tr>\n",
       "    <tr>\n",
       "      <th>4</th>\n",
       "      <td>-0.181507</td>\n",
       "      <td>1.238684</td>\n",
       "    </tr>\n",
       "    <tr>\n",
       "      <th>...</th>\n",
       "      <td>...</td>\n",
       "      <td>...</td>\n",
       "    </tr>\n",
       "    <tr>\n",
       "      <th>995</th>\n",
       "      <td>-0.242130</td>\n",
       "      <td>-0.948837</td>\n",
       "    </tr>\n",
       "    <tr>\n",
       "      <th>996</th>\n",
       "      <td>0.381859</td>\n",
       "      <td>0.144923</td>\n",
       "    </tr>\n",
       "    <tr>\n",
       "      <th>997</th>\n",
       "      <td>-0.966137</td>\n",
       "      <td>-0.401957</td>\n",
       "    </tr>\n",
       "    <tr>\n",
       "      <th>998</th>\n",
       "      <td>-1.609008</td>\n",
       "      <td>-0.766544</td>\n",
       "    </tr>\n",
       "    <tr>\n",
       "      <th>999</th>\n",
       "      <td>1.114607</td>\n",
       "      <td>0.418363</td>\n",
       "    </tr>\n",
       "  </tbody>\n",
       "</table>\n",
       "<p>1000 rows × 2 columns</p>\n",
       "</div>"
      ],
      "text/plain": [
       "       income       age\n",
       "0    0.551088  1.694418\n",
       "1   -0.777720 -1.131131\n",
       "2   -1.111030  1.147537\n",
       "3   -1.194969  0.874097\n",
       "4   -0.181507  1.238684\n",
       "..        ...       ...\n",
       "995 -0.242130 -0.948837\n",
       "996  0.381859  0.144923\n",
       "997 -0.966137 -0.401957\n",
       "998 -1.609008 -0.766544\n",
       "999  1.114607  0.418363\n",
       "\n",
       "[1000 rows x 2 columns]"
      ]
     },
     "execution_count": 3,
     "metadata": {},
     "output_type": "execute_result"
    }
   ],
   "source": [
    "ageinc_scaled"
   ]
  },
  {
   "cell_type": "code",
   "execution_count": 4,
   "id": "931c001c",
   "metadata": {},
   "outputs": [
    {
     "data": {
      "text/html": [
       "<div>\n",
       "<style scoped>\n",
       "    .dataframe tbody tr th:only-of-type {\n",
       "        vertical-align: middle;\n",
       "    }\n",
       "\n",
       "    .dataframe tbody tr th {\n",
       "        vertical-align: top;\n",
       "    }\n",
       "\n",
       "    .dataframe thead th {\n",
       "        text-align: right;\n",
       "    }\n",
       "</style>\n",
       "<table border=\"1\" class=\"dataframe\">\n",
       "  <thead>\n",
       "    <tr style=\"text-align: right;\">\n",
       "      <th></th>\n",
       "      <th>income</th>\n",
       "      <th>age</th>\n",
       "      <th>z_income</th>\n",
       "      <th>z_age</th>\n",
       "    </tr>\n",
       "  </thead>\n",
       "  <tbody>\n",
       "    <tr>\n",
       "      <th>0</th>\n",
       "      <td>101743</td>\n",
       "      <td>58</td>\n",
       "      <td>0.551088</td>\n",
       "      <td>1.694418</td>\n",
       "    </tr>\n",
       "    <tr>\n",
       "      <th>1</th>\n",
       "      <td>49597</td>\n",
       "      <td>27</td>\n",
       "      <td>-0.777720</td>\n",
       "      <td>-1.131131</td>\n",
       "    </tr>\n",
       "    <tr>\n",
       "      <th>2</th>\n",
       "      <td>36517</td>\n",
       "      <td>52</td>\n",
       "      <td>-1.111030</td>\n",
       "      <td>1.147537</td>\n",
       "    </tr>\n",
       "    <tr>\n",
       "      <th>3</th>\n",
       "      <td>33223</td>\n",
       "      <td>49</td>\n",
       "      <td>-1.194969</td>\n",
       "      <td>0.874097</td>\n",
       "    </tr>\n",
       "    <tr>\n",
       "      <th>4</th>\n",
       "      <td>72994</td>\n",
       "      <td>53</td>\n",
       "      <td>-0.181507</td>\n",
       "      <td>1.238684</td>\n",
       "    </tr>\n",
       "  </tbody>\n",
       "</table>\n",
       "</div>"
      ],
      "text/plain": [
       "   income  age  z_income     z_age\n",
       "0  101743   58  0.551088  1.694418\n",
       "1   49597   27 -0.777720 -1.131131\n",
       "2   36517   52 -1.111030  1.147537\n",
       "3   33223   49 -1.194969  0.874097\n",
       "4   72994   53 -0.181507  1.238684"
      ]
     },
     "execution_count": 4,
     "metadata": {},
     "output_type": "execute_result"
    }
   ],
   "source": [
    "ageinc['z_income']=ageinc_scaled['income']\n",
    "ageinc['z_age']=ageinc_scaled['age']\n",
    "ageinc.head()"
   ]
  },
  {
   "cell_type": "markdown",
   "id": "3ef40189",
   "metadata": {},
   "source": [
    "使用 Elbow 方法找出最佳的分群數量 k"
   ]
  },
  {
   "cell_type": "code",
   "execution_count": 5,
   "id": "41149f2f",
   "metadata": {},
   "outputs": [],
   "source": [
    "import matplotlib.pyplot as plt\n",
    "import seaborn as sns\n",
    "import pandas as pd\n",
    "from sklearn import datasets\n",
    "from sklearn.metrics import silhouette_score\n",
    "from sklearn.cluster import KMeans"
   ]
  },
  {
   "cell_type": "markdown",
   "id": "c41778e8",
   "metadata": {},
   "source": [
    "K=2的SSE值"
   ]
  },
  {
   "cell_type": "code",
   "execution_count": 6,
   "id": "da3a88e4",
   "metadata": {},
   "outputs": [
    {
     "data": {
      "text/plain": [
       "1190.938561812244"
      ]
     },
     "execution_count": 6,
     "metadata": {},
     "output_type": "execute_result"
    }
   ],
   "source": [
    "kmeans = KMeans(n_clusters=2, init='k-means++', random_state=10)\n",
    "kmeans.fit(ageinc_scaled)\n",
    "kmeans.inertia_"
   ]
  },
  {
   "cell_type": "markdown",
   "id": "88fa4273",
   "metadata": {},
   "source": [
    "K=2~10的SSE值"
   ]
  },
  {
   "cell_type": "code",
   "execution_count": 7,
   "id": "9af8e62c",
   "metadata": {},
   "outputs": [],
   "source": [
    "SSE = []\n",
    "# 計算 k=2~10 的損失函數\n",
    "for i in range(2,11):\n",
    "    kmeans = KMeans(n_clusters=i, init='k-means++', random_state=10)\n",
    "    kmeans.fit(ageinc_scaled)\n",
    "    # kmeans.inertia_\n",
    "    SSE.append(kmeans.inertia_)"
   ]
  },
  {
   "cell_type": "code",
   "execution_count": 8,
   "id": "bab29add",
   "metadata": {},
   "outputs": [
    {
     "data": {
      "text/plain": [
       "[1190.938561812244,\n",
       " 735.4003700524152,\n",
       " 386.45669565385515,\n",
       " 341.9971149955688,\n",
       " 301.9054466165438,\n",
       " 271.4376222382023,\n",
       " 242.14394312449474,\n",
       " 216.34655194764045,\n",
       " 192.7614486233773]"
      ]
     },
     "execution_count": 8,
     "metadata": {},
     "output_type": "execute_result"
    }
   ],
   "source": [
    "SSE"
   ]
  },
  {
   "cell_type": "markdown",
   "id": "9ad42648",
   "metadata": {},
   "source": [
    "畫出 Elbow 圖"
   ]
  },
  {
   "cell_type": "code",
   "execution_count": 9,
   "id": "d9d22a7f",
   "metadata": {},
   "outputs": [
    {
     "data": {
      "image/png": "[encoded data removed]",
      "text/plain": [
       "<Figure size 432x288 with 1 Axes>"
      ]
     },
     "metadata": {
      "needs_background": "light"
     },
     "output_type": "display_data"
    }
   ],
   "source": [
    "%matplotlib inline\n",
    "import matplotlib.pyplot as plt \n",
    "\n",
    "plt.plot(range(2,11), SSE, marker='o')\n",
    "plt.title('Elbow graph')\n",
    "plt.xlabel('K')\n",
    "plt.ylabel('SSE')\n",
    "plt.show()"
   ]
  },
  {
   "cell_type": "markdown",
   "id": "e5d0d5d9",
   "metadata": {},
   "source": [
    "用最佳K值=4,來做分群"
   ]
  },
  {
   "cell_type": "code",
   "execution_count": 10,
   "id": "0a2eeecf",
   "metadata": {},
   "outputs": [
    {
     "data": {
      "text/plain": [
       "KMeans(n_clusters=4, random_state=10)"
      ]
     },
     "execution_count": 10,
     "metadata": {},
     "output_type": "execute_result"
    }
   ],
   "source": [
    "kmeans = KMeans(n_clusters=4, init='k-means++', random_state=10)\n",
    "kmeans.fit(ageinc_scaled)"
   ]
  },
  {
   "cell_type": "code",
   "execution_count": 11,
   "id": "89dba60c",
   "metadata": {},
   "outputs": [],
   "source": [
    "ageinc['kmean_cluster']=kmeans.labels_\n",
    "ageinc_scaled['kmean_cluster']=kmeans.labels_"
   ]
  },
  {
   "cell_type": "code",
   "execution_count": 12,
   "id": "852e11d6",
   "metadata": {},
   "outputs": [
    {
     "data": {
      "text/plain": [
       "array([[ 0.9194838 ,  0.91047915],\n",
       "       [ 0.89427821, -0.88065397],\n",
       "       [-0.857088  ,  0.9050727 ],\n",
       "       [-0.92800966, -0.89187067]])"
      ]
     },
     "execution_count": 12,
     "metadata": {},
     "output_type": "execute_result"
    }
   ],
   "source": [
    "kmeans.cluster_centers_"
   ]
  },
  {
   "cell_type": "markdown",
   "id": "d95a9351",
   "metadata": {},
   "source": [
    "# 使用 ageinc.csv 資料集，使用 mean-shift 分群法進行分群"
   ]
  },
  {
   "cell_type": "code",
   "execution_count": 13,
   "id": "7a3e7cb9",
   "metadata": {},
   "outputs": [],
   "source": [
    "ageinc_shift=pd.read_csv('ageinc.csv')\n",
    "ageinc_s2 = pd.DataFrame(scale.fit_transform(ageinc_shift),\n",
    "                                columns=ageinc_shift.keys())"
   ]
  },
  {
   "cell_type": "markdown",
   "id": "66590a30",
   "metadata": {},
   "source": [
    "標準化ageinc.csv,建立dataframe標籤"
   ]
  },
  {
   "cell_type": "code",
   "execution_count": 14,
   "id": "96a5e572",
   "metadata": {},
   "outputs": [
    {
     "data": {
      "text/html": [
       "<div>\n",
       "<style scoped>\n",
       "    .dataframe tbody tr th:only-of-type {\n",
       "        vertical-align: middle;\n",
       "    }\n",
       "\n",
       "    .dataframe tbody tr th {\n",
       "        vertical-align: top;\n",
       "    }\n",
       "\n",
       "    .dataframe thead th {\n",
       "        text-align: right;\n",
       "    }\n",
       "</style>\n",
       "<table border=\"1\" class=\"dataframe\">\n",
       "  <thead>\n",
       "    <tr style=\"text-align: right;\">\n",
       "      <th></th>\n",
       "      <th>income</th>\n",
       "      <th>age</th>\n",
       "      <th>z_income</th>\n",
       "      <th>z_age</th>\n",
       "    </tr>\n",
       "  </thead>\n",
       "  <tbody>\n",
       "    <tr>\n",
       "      <th>0</th>\n",
       "      <td>101743</td>\n",
       "      <td>58</td>\n",
       "      <td>0.551088</td>\n",
       "      <td>1.694418</td>\n",
       "    </tr>\n",
       "    <tr>\n",
       "      <th>1</th>\n",
       "      <td>49597</td>\n",
       "      <td>27</td>\n",
       "      <td>-0.777720</td>\n",
       "      <td>-1.131131</td>\n",
       "    </tr>\n",
       "    <tr>\n",
       "      <th>2</th>\n",
       "      <td>36517</td>\n",
       "      <td>52</td>\n",
       "      <td>-1.111030</td>\n",
       "      <td>1.147537</td>\n",
       "    </tr>\n",
       "    <tr>\n",
       "      <th>3</th>\n",
       "      <td>33223</td>\n",
       "      <td>49</td>\n",
       "      <td>-1.194969</td>\n",
       "      <td>0.874097</td>\n",
       "    </tr>\n",
       "    <tr>\n",
       "      <th>4</th>\n",
       "      <td>72994</td>\n",
       "      <td>53</td>\n",
       "      <td>-0.181507</td>\n",
       "      <td>1.238684</td>\n",
       "    </tr>\n",
       "  </tbody>\n",
       "</table>\n",
       "</div>"
      ],
      "text/plain": [
       "   income  age  z_income     z_age\n",
       "0  101743   58  0.551088  1.694418\n",
       "1   49597   27 -0.777720 -1.131131\n",
       "2   36517   52 -1.111030  1.147537\n",
       "3   33223   49 -1.194969  0.874097\n",
       "4   72994   53 -0.181507  1.238684"
      ]
     },
     "execution_count": 14,
     "metadata": {},
     "output_type": "execute_result"
    }
   ],
   "source": [
    "ageinc_shift['z_income']=ageinc_s2['income']\n",
    "ageinc_shift['z_age']=ageinc_s2['age']\n",
    "ageinc_shift.head()"
   ]
  },
  {
   "cell_type": "markdown",
   "id": "61228a55",
   "metadata": {},
   "source": [
    "用 estimate_bandwidth 找出最佳帶寬，quantile 設 0.1"
   ]
  },
  {
   "cell_type": "code",
   "execution_count": 15,
   "id": "4648b75c",
   "metadata": {},
   "outputs": [
    {
     "name": "stderr",
     "output_type": "stream",
     "text": [
      "C:\\Users\\USER\\anaconda3\\lib\\site-packages\\sklearn\\utils\\deprecation.py:143: FutureWarning: The sklearn.datasets.samples_generator module is  deprecated in version 0.22 and will be removed in version 0.24. The corresponding classes / functions should instead be imported from sklearn.datasets. Anything that cannot be imported from sklearn.datasets is now part of the private API.\n",
      "  warnings.warn(message, FutureWarning)\n"
     ]
    }
   ],
   "source": [
    "from sklearn.cluster import MeanShift, estimate_bandwidth\n",
    "from sklearn.datasets.samples_generator import make_blobs"
   ]
  },
  {
   "cell_type": "code",
   "execution_count": 16,
   "id": "58635995",
   "metadata": {},
   "outputs": [
    {
     "name": "stdout",
     "output_type": "stream",
     "text": [
      "0.6371390561473768\n"
     ]
    }
   ],
   "source": [
    "bandwidth = estimate_bandwidth(ageinc_s2, quantile=0.1)\n",
    "print(bandwidth)"
   ]
  },
  {
   "cell_type": "markdown",
   "id": "97ab75e3",
   "metadata": {},
   "source": [
    "用 mean-shift 分群，將分群結果加在 DataFrame 欄位中並列印出來，並說明分群數"
   ]
  },
  {
   "cell_type": "code",
   "execution_count": 17,
   "id": "f9e4928e",
   "metadata": {},
   "outputs": [],
   "source": [
    "ms = MeanShift(bandwidth=bandwidth, bin_seeding=True)\n",
    "ms.fit(ageinc_s2)\n",
    "labels = ms.labels_"
   ]
  },
  {
   "cell_type": "code",
   "execution_count": 18,
   "id": "cc2296c3",
   "metadata": {},
   "outputs": [
    {
     "data": {
      "text/html": [
       "<div>\n",
       "<style scoped>\n",
       "    .dataframe tbody tr th:only-of-type {\n",
       "        vertical-align: middle;\n",
       "    }\n",
       "\n",
       "    .dataframe tbody tr th {\n",
       "        vertical-align: top;\n",
       "    }\n",
       "\n",
       "    .dataframe thead th {\n",
       "        text-align: right;\n",
       "    }\n",
       "</style>\n",
       "<table border=\"1\" class=\"dataframe\">\n",
       "  <thead>\n",
       "    <tr style=\"text-align: right;\">\n",
       "      <th></th>\n",
       "      <th>income</th>\n",
       "      <th>age</th>\n",
       "      <th>z_income</th>\n",
       "      <th>z_age</th>\n",
       "      <th>MeanShift_cluster</th>\n",
       "    </tr>\n",
       "  </thead>\n",
       "  <tbody>\n",
       "    <tr>\n",
       "      <th>0</th>\n",
       "      <td>101743</td>\n",
       "      <td>58</td>\n",
       "      <td>0.551088</td>\n",
       "      <td>1.694418</td>\n",
       "      <td>2</td>\n",
       "    </tr>\n",
       "    <tr>\n",
       "      <th>1</th>\n",
       "      <td>49597</td>\n",
       "      <td>27</td>\n",
       "      <td>-0.777720</td>\n",
       "      <td>-1.131131</td>\n",
       "      <td>3</td>\n",
       "    </tr>\n",
       "    <tr>\n",
       "      <th>2</th>\n",
       "      <td>36517</td>\n",
       "      <td>52</td>\n",
       "      <td>-1.111030</td>\n",
       "      <td>1.147537</td>\n",
       "      <td>0</td>\n",
       "    </tr>\n",
       "    <tr>\n",
       "      <th>3</th>\n",
       "      <td>33223</td>\n",
       "      <td>49</td>\n",
       "      <td>-1.194969</td>\n",
       "      <td>0.874097</td>\n",
       "      <td>0</td>\n",
       "    </tr>\n",
       "    <tr>\n",
       "      <th>4</th>\n",
       "      <td>72994</td>\n",
       "      <td>53</td>\n",
       "      <td>-0.181507</td>\n",
       "      <td>1.238684</td>\n",
       "      <td>0</td>\n",
       "    </tr>\n",
       "  </tbody>\n",
       "</table>\n",
       "</div>"
      ],
      "text/plain": [
       "   income  age  z_income     z_age  MeanShift_cluster\n",
       "0  101743   58  0.551088  1.694418                  2\n",
       "1   49597   27 -0.777720 -1.131131                  3\n",
       "2   36517   52 -1.111030  1.147537                  0\n",
       "3   33223   49 -1.194969  0.874097                  0\n",
       "4   72994   53 -0.181507  1.238684                  0"
      ]
     },
     "execution_count": 18,
     "metadata": {},
     "output_type": "execute_result"
    }
   ],
   "source": [
    "ageinc_shift['MeanShift_cluster']=labels\n",
    "ageinc_s2['MeanShift_cluster']=labels\n",
    "ageinc_shift.head()"
   ]
  },
  {
   "cell_type": "code",
   "execution_count": 19,
   "id": "4729bf4b",
   "metadata": {},
   "outputs": [
    {
     "name": "stdout",
     "output_type": "stream",
     "text": [
      "分群數 : 4\n"
     ]
    }
   ],
   "source": [
    "labels_unique = np.unique(labels)\n",
    "n_clusters_ = len(labels_unique)\n",
    "\n",
    "print(\"分群數 : %d\" % n_clusters_)"
   ]
  },
  {
   "cell_type": "markdown",
   "id": "b109316a",
   "metadata": {},
   "source": [
    "k_means繪圖分群結果"
   ]
  },
  {
   "cell_type": "code",
   "execution_count": 20,
   "id": "1b7e06d2",
   "metadata": {},
   "outputs": [],
   "source": [
    "#filter rows of original data\n",
    "filtered_label0 = ageinc['kmean_cluster'] == 0\n",
    "label0=ageinc[filtered_label0]\n",
    "\n",
    "filtered_label1 = ageinc['kmean_cluster'] == 1\n",
    "label1=ageinc[filtered_label1]\n",
    "\n",
    "filtered_label2 = ageinc['kmean_cluster'] == 2\n",
    "label2=ageinc[filtered_label2]\n",
    "\n",
    "filtered_label3 = ageinc['kmean_cluster'] == 3\n",
    "label3=ageinc[filtered_label3]"
   ]
  },
  {
   "cell_type": "code",
   "execution_count": 21,
   "id": "18e024d6",
   "metadata": {},
   "outputs": [
    {
     "data": {
      "image/png": "[encoded data removed]",
      "text/plain": [
       "<Figure size 432x288 with 1 Axes>"
      ]
     },
     "metadata": {
      "needs_background": "light"
     },
     "output_type": "display_data"
    }
   ],
   "source": [
    "#plotting the results\n",
    "plt.scatter(label0.iloc[:,0] , label0.iloc[:,1])\n",
    "plt.scatter(label1.iloc[:,0] , label1.iloc[:,1])\n",
    "plt.scatter(label2.iloc[:,0] , label2.iloc[:,1])\n",
    "plt.scatter(label3.iloc[:,0] , label3.iloc[:,1])\n",
    "plt.title('kmean cluster')\n",
    "plt.show()"
   ]
  },
  {
   "cell_type": "markdown",
   "id": "87d26220",
   "metadata": {},
   "source": [
    "mean-shift繪圖分群結果"
   ]
  },
  {
   "cell_type": "code",
   "execution_count": 22,
   "id": "96efafef",
   "metadata": {},
   "outputs": [
    {
     "data": {
      "image/png": "[encoded data removed]",
      "text/plain": [
       "<Figure size 432x288 with 1 Axes>"
      ]
     },
     "metadata": {
      "needs_background": "light"
     },
     "output_type": "display_data"
    }
   ],
   "source": [
    "plt.figure()\n",
    "plt.scatter(ageinc_shift.iloc[:,0], ageinc_shift.iloc[:,1], c = labels)\n",
    "plt.title('mean-shift cluster')\n",
    "plt.show()"
   ]
  },
  {
   "cell_type": "markdown",
   "id": "9cc9f53a",
   "metadata": {},
   "source": [
    "# 使用 age_education.csv 資料集，使用 k-prototypes 分群法進行分群"
   ]
  },
  {
   "cell_type": "markdown",
   "id": "a019f589",
   "metadata": {},
   "source": [
    "將 age 標準化，建立成標準化後的新欄位。"
   ]
  },
  {
   "cell_type": "code",
   "execution_count": 23,
   "id": "bb5316bd",
   "metadata": {},
   "outputs": [
    {
     "data": {
      "text/html": [
       "<div>\n",
       "<style scoped>\n",
       "    .dataframe tbody tr th:only-of-type {\n",
       "        vertical-align: middle;\n",
       "    }\n",
       "\n",
       "    .dataframe tbody tr th {\n",
       "        vertical-align: top;\n",
       "    }\n",
       "\n",
       "    .dataframe thead th {\n",
       "        text-align: right;\n",
       "    }\n",
       "</style>\n",
       "<table border=\"1\" class=\"dataframe\">\n",
       "  <thead>\n",
       "    <tr style=\"text-align: right;\">\n",
       "      <th></th>\n",
       "      <th>age</th>\n",
       "      <th>education</th>\n",
       "    </tr>\n",
       "  </thead>\n",
       "  <tbody>\n",
       "    <tr>\n",
       "      <th>0</th>\n",
       "      <td>27.007219</td>\n",
       "      <td>college</td>\n",
       "    </tr>\n",
       "    <tr>\n",
       "      <th>1</th>\n",
       "      <td>47.615409</td>\n",
       "      <td>highschool</td>\n",
       "    </tr>\n",
       "    <tr>\n",
       "      <th>2</th>\n",
       "      <td>51.382815</td>\n",
       "      <td>highschool</td>\n",
       "    </tr>\n",
       "    <tr>\n",
       "      <th>3</th>\n",
       "      <td>54.906622</td>\n",
       "      <td>highschool</td>\n",
       "    </tr>\n",
       "    <tr>\n",
       "      <th>4</th>\n",
       "      <td>27.719939</td>\n",
       "      <td>less_than_highschool</td>\n",
       "    </tr>\n",
       "  </tbody>\n",
       "</table>\n",
       "</div>"
      ],
      "text/plain": [
       "         age             education\n",
       "0  27.007219               college\n",
       "1  47.615409            highschool\n",
       "2  51.382815            highschool\n",
       "3  54.906622            highschool\n",
       "4  27.719939  less_than_highschool"
      ]
     },
     "execution_count": 23,
     "metadata": {},
     "output_type": "execute_result"
    }
   ],
   "source": [
    "age_edu=pd.read_csv('age_education.csv')\n",
    "age_edu.head()"
   ]
  },
  {
   "cell_type": "code",
   "execution_count": 24,
   "id": "7e0f966c",
   "metadata": {},
   "outputs": [],
   "source": [
    "age_scale=pd.DataFrame(age_edu['age'])"
   ]
  },
  {
   "cell_type": "code",
   "execution_count": 25,
   "id": "c2db461d",
   "metadata": {},
   "outputs": [],
   "source": [
    "ageinc_scaled = pd.DataFrame(scale.fit_transform(age_scale),\n",
    "                                columns=age_scale.keys())"
   ]
  },
  {
   "cell_type": "code",
   "execution_count": 26,
   "id": "dfff6286",
   "metadata": {
    "scrolled": true
   },
   "outputs": [
    {
     "data": {
      "text/html": [
       "<div>\n",
       "<style scoped>\n",
       "    .dataframe tbody tr th:only-of-type {\n",
       "        vertical-align: middle;\n",
       "    }\n",
       "\n",
       "    .dataframe tbody tr th {\n",
       "        vertical-align: top;\n",
       "    }\n",
       "\n",
       "    .dataframe thead th {\n",
       "        text-align: right;\n",
       "    }\n",
       "</style>\n",
       "<table border=\"1\" class=\"dataframe\">\n",
       "  <thead>\n",
       "    <tr style=\"text-align: right;\">\n",
       "      <th></th>\n",
       "      <th>education</th>\n",
       "      <th>z_age</th>\n",
       "    </tr>\n",
       "  </thead>\n",
       "  <tbody>\n",
       "    <tr>\n",
       "      <th>0</th>\n",
       "      <td>college</td>\n",
       "      <td>-1.446982</td>\n",
       "    </tr>\n",
       "    <tr>\n",
       "      <th>1</th>\n",
       "      <td>highschool</td>\n",
       "      <td>0.438918</td>\n",
       "    </tr>\n",
       "    <tr>\n",
       "      <th>2</th>\n",
       "      <td>highschool</td>\n",
       "      <td>0.783681</td>\n",
       "    </tr>\n",
       "    <tr>\n",
       "      <th>3</th>\n",
       "      <td>highschool</td>\n",
       "      <td>1.106153</td>\n",
       "    </tr>\n",
       "    <tr>\n",
       "      <th>4</th>\n",
       "      <td>less_than_highschool</td>\n",
       "      <td>-1.381759</td>\n",
       "    </tr>\n",
       "  </tbody>\n",
       "</table>\n",
       "</div>"
      ],
      "text/plain": [
       "              education     z_age\n",
       "0               college -1.446982\n",
       "1            highschool  0.438918\n",
       "2            highschool  0.783681\n",
       "3            highschool  1.106153\n",
       "4  less_than_highschool -1.381759"
      ]
     },
     "execution_count": 26,
     "metadata": {},
     "output_type": "execute_result"
    }
   ],
   "source": [
    "age_edu['z_age']=ageinc_scaled['age']\n",
    "age_edu=age_edu.drop('age',axis=1)\n",
    "age_edu.head()"
   ]
  },
  {
   "cell_type": "code",
   "execution_count": 27,
   "id": "503c42b0",
   "metadata": {},
   "outputs": [
    {
     "data": {
      "text/html": [
       "<div>\n",
       "<style scoped>\n",
       "    .dataframe tbody tr th:only-of-type {\n",
       "        vertical-align: middle;\n",
       "    }\n",
       "\n",
       "    .dataframe tbody tr th {\n",
       "        vertical-align: top;\n",
       "    }\n",
       "\n",
       "    .dataframe thead th {\n",
       "        text-align: right;\n",
       "    }\n",
       "</style>\n",
       "<table border=\"1\" class=\"dataframe\">\n",
       "  <thead>\n",
       "    <tr style=\"text-align: right;\">\n",
       "      <th></th>\n",
       "      <th>education</th>\n",
       "      <th>z_age</th>\n",
       "    </tr>\n",
       "  </thead>\n",
       "  <tbody>\n",
       "    <tr>\n",
       "      <th>0</th>\n",
       "      <td>0</td>\n",
       "      <td>-1.446982</td>\n",
       "    </tr>\n",
       "    <tr>\n",
       "      <th>1</th>\n",
       "      <td>1</td>\n",
       "      <td>0.438918</td>\n",
       "    </tr>\n",
       "    <tr>\n",
       "      <th>2</th>\n",
       "      <td>1</td>\n",
       "      <td>0.783681</td>\n",
       "    </tr>\n",
       "    <tr>\n",
       "      <th>3</th>\n",
       "      <td>1</td>\n",
       "      <td>1.106153</td>\n",
       "    </tr>\n",
       "    <tr>\n",
       "      <th>4</th>\n",
       "      <td>2</td>\n",
       "      <td>-1.381759</td>\n",
       "    </tr>\n",
       "    <tr>\n",
       "      <th>...</th>\n",
       "      <td>...</td>\n",
       "      <td>...</td>\n",
       "    </tr>\n",
       "    <tr>\n",
       "      <th>995</th>\n",
       "      <td>2</td>\n",
       "      <td>1.348098</td>\n",
       "    </tr>\n",
       "    <tr>\n",
       "      <th>996</th>\n",
       "      <td>0</td>\n",
       "      <td>-1.747175</td>\n",
       "    </tr>\n",
       "    <tr>\n",
       "      <th>997</th>\n",
       "      <td>1</td>\n",
       "      <td>0.915993</td>\n",
       "    </tr>\n",
       "    <tr>\n",
       "      <th>998</th>\n",
       "      <td>1</td>\n",
       "      <td>1.060818</td>\n",
       "    </tr>\n",
       "    <tr>\n",
       "      <th>999</th>\n",
       "      <td>2</td>\n",
       "      <td>0.518196</td>\n",
       "    </tr>\n",
       "  </tbody>\n",
       "</table>\n",
       "<p>1000 rows × 2 columns</p>\n",
       "</div>"
      ],
      "text/plain": [
       "     education     z_age\n",
       "0            0 -1.446982\n",
       "1            1  0.438918\n",
       "2            1  0.783681\n",
       "3            1  1.106153\n",
       "4            2 -1.381759\n",
       "..         ...       ...\n",
       "995          2  1.348098\n",
       "996          0 -1.747175\n",
       "997          1  0.915993\n",
       "998          1  1.060818\n",
       "999          2  0.518196\n",
       "\n",
       "[1000 rows x 2 columns]"
      ]
     },
     "execution_count": 27,
     "metadata": {},
     "output_type": "execute_result"
    }
   ],
   "source": [
    "from sklearn.preprocessing import LabelEncoder\n",
    "labelencoder = LabelEncoder()\n",
    "data_le=pd.DataFrame(age_edu)\n",
    "data_le['education'] = labelencoder.fit_transform(data_le['education'])\n",
    "data_le"
   ]
  },
  {
   "cell_type": "code",
   "execution_count": 28,
   "id": "40b82248",
   "metadata": {},
   "outputs": [],
   "source": [
    "matrix = np.array(data_le)"
   ]
  },
  {
   "cell_type": "markdown",
   "id": "7538a9e2",
   "metadata": {},
   "source": [
    "用 k-prototypes 分群"
   ]
  },
  {
   "cell_type": "code",
   "execution_count": 39,
   "id": "968c7205",
   "metadata": {},
   "outputs": [],
   "source": [
    "from kmodes.kprototypes import KPrototypes\n",
    "kproto = KPrototypes(n_clusters= 3, random_state=10)\n",
    "clusters = kproto.fit_predict(matrix,categorical=[1])"
   ]
  },
  {
   "cell_type": "markdown",
   "id": "268dcc80",
   "metadata": {},
   "source": [
    "印出每分類的數量"
   ]
  },
  {
   "cell_type": "code",
   "execution_count": 40,
   "id": "19e513b9",
   "metadata": {},
   "outputs": [
    {
     "data": {
      "text/plain": [
       "1    334\n",
       "2    333\n",
       "0    333\n",
       "dtype: int64"
      ]
     },
     "execution_count": 40,
     "metadata": {},
     "output_type": "execute_result"
    }
   ],
   "source": [
    "pd.Series(clusters).value_counts()"
   ]
  },
  {
   "cell_type": "markdown",
   "id": "c5338226",
   "metadata": {},
   "source": [
    "# 使用 customer_offer.csv 資料集，使用 k-modes 分群法進行分群"
   ]
  },
  {
   "cell_type": "markdown",
   "id": "3eec11da",
   "metadata": {},
   "source": [
    "customer_name 設為 index"
   ]
  },
  {
   "cell_type": "code",
   "execution_count": 31,
   "id": "036f7b70",
   "metadata": {},
   "outputs": [],
   "source": [
    "customer=pd.read_csv('customer_offers.csv',index_col=\"customer_name\")"
   ]
  },
  {
   "cell_type": "code",
   "execution_count": 32,
   "id": "1b866cc8",
   "metadata": {},
   "outputs": [
    {
     "data": {
      "text/html": [
       "<div>\n",
       "<style scoped>\n",
       "    .dataframe tbody tr th:only-of-type {\n",
       "        vertical-align: middle;\n",
       "    }\n",
       "\n",
       "    .dataframe tbody tr th {\n",
       "        vertical-align: top;\n",
       "    }\n",
       "\n",
       "    .dataframe thead th {\n",
       "        text-align: right;\n",
       "    }\n",
       "</style>\n",
       "<table border=\"1\" class=\"dataframe\">\n",
       "  <thead>\n",
       "    <tr style=\"text-align: right;\">\n",
       "      <th></th>\n",
       "      <th>1</th>\n",
       "      <th>2</th>\n",
       "      <th>3</th>\n",
       "      <th>4</th>\n",
       "      <th>5</th>\n",
       "      <th>6</th>\n",
       "      <th>7</th>\n",
       "      <th>8</th>\n",
       "      <th>9</th>\n",
       "      <th>10</th>\n",
       "      <th>...</th>\n",
       "      <th>23</th>\n",
       "      <th>24</th>\n",
       "      <th>25</th>\n",
       "      <th>26</th>\n",
       "      <th>27</th>\n",
       "      <th>28</th>\n",
       "      <th>29</th>\n",
       "      <th>30</th>\n",
       "      <th>31</th>\n",
       "      <th>32</th>\n",
       "    </tr>\n",
       "    <tr>\n",
       "      <th>customer_name</th>\n",
       "      <th></th>\n",
       "      <th></th>\n",
       "      <th></th>\n",
       "      <th></th>\n",
       "      <th></th>\n",
       "      <th></th>\n",
       "      <th></th>\n",
       "      <th></th>\n",
       "      <th></th>\n",
       "      <th></th>\n",
       "      <th></th>\n",
       "      <th></th>\n",
       "      <th></th>\n",
       "      <th></th>\n",
       "      <th></th>\n",
       "      <th></th>\n",
       "      <th></th>\n",
       "      <th></th>\n",
       "      <th></th>\n",
       "      <th></th>\n",
       "      <th></th>\n",
       "    </tr>\n",
       "  </thead>\n",
       "  <tbody>\n",
       "    <tr>\n",
       "      <th>Adams</th>\n",
       "      <td>0</td>\n",
       "      <td>0</td>\n",
       "      <td>0</td>\n",
       "      <td>0</td>\n",
       "      <td>0</td>\n",
       "      <td>0</td>\n",
       "      <td>0</td>\n",
       "      <td>0</td>\n",
       "      <td>0</td>\n",
       "      <td>0</td>\n",
       "      <td>...</td>\n",
       "      <td>0</td>\n",
       "      <td>0</td>\n",
       "      <td>0</td>\n",
       "      <td>0</td>\n",
       "      <td>0</td>\n",
       "      <td>0</td>\n",
       "      <td>1</td>\n",
       "      <td>1</td>\n",
       "      <td>0</td>\n",
       "      <td>0</td>\n",
       "    </tr>\n",
       "    <tr>\n",
       "      <th>Allen</th>\n",
       "      <td>0</td>\n",
       "      <td>0</td>\n",
       "      <td>0</td>\n",
       "      <td>0</td>\n",
       "      <td>0</td>\n",
       "      <td>0</td>\n",
       "      <td>0</td>\n",
       "      <td>0</td>\n",
       "      <td>1</td>\n",
       "      <td>0</td>\n",
       "      <td>...</td>\n",
       "      <td>0</td>\n",
       "      <td>0</td>\n",
       "      <td>0</td>\n",
       "      <td>0</td>\n",
       "      <td>1</td>\n",
       "      <td>0</td>\n",
       "      <td>0</td>\n",
       "      <td>0</td>\n",
       "      <td>0</td>\n",
       "      <td>0</td>\n",
       "    </tr>\n",
       "    <tr>\n",
       "      <th>Anderson</th>\n",
       "      <td>0</td>\n",
       "      <td>0</td>\n",
       "      <td>0</td>\n",
       "      <td>0</td>\n",
       "      <td>0</td>\n",
       "      <td>0</td>\n",
       "      <td>0</td>\n",
       "      <td>0</td>\n",
       "      <td>0</td>\n",
       "      <td>0</td>\n",
       "      <td>...</td>\n",
       "      <td>0</td>\n",
       "      <td>1</td>\n",
       "      <td>0</td>\n",
       "      <td>1</td>\n",
       "      <td>0</td>\n",
       "      <td>0</td>\n",
       "      <td>0</td>\n",
       "      <td>0</td>\n",
       "      <td>0</td>\n",
       "      <td>0</td>\n",
       "    </tr>\n",
       "    <tr>\n",
       "      <th>Bailey</th>\n",
       "      <td>0</td>\n",
       "      <td>0</td>\n",
       "      <td>0</td>\n",
       "      <td>0</td>\n",
       "      <td>0</td>\n",
       "      <td>0</td>\n",
       "      <td>1</td>\n",
       "      <td>0</td>\n",
       "      <td>0</td>\n",
       "      <td>0</td>\n",
       "      <td>...</td>\n",
       "      <td>0</td>\n",
       "      <td>0</td>\n",
       "      <td>0</td>\n",
       "      <td>0</td>\n",
       "      <td>0</td>\n",
       "      <td>0</td>\n",
       "      <td>0</td>\n",
       "      <td>1</td>\n",
       "      <td>0</td>\n",
       "      <td>0</td>\n",
       "    </tr>\n",
       "    <tr>\n",
       "      <th>Baker</th>\n",
       "      <td>0</td>\n",
       "      <td>0</td>\n",
       "      <td>0</td>\n",
       "      <td>0</td>\n",
       "      <td>0</td>\n",
       "      <td>0</td>\n",
       "      <td>1</td>\n",
       "      <td>0</td>\n",
       "      <td>0</td>\n",
       "      <td>1</td>\n",
       "      <td>...</td>\n",
       "      <td>0</td>\n",
       "      <td>0</td>\n",
       "      <td>0</td>\n",
       "      <td>0</td>\n",
       "      <td>0</td>\n",
       "      <td>0</td>\n",
       "      <td>0</td>\n",
       "      <td>0</td>\n",
       "      <td>1</td>\n",
       "      <td>0</td>\n",
       "    </tr>\n",
       "  </tbody>\n",
       "</table>\n",
       "<p>5 rows × 32 columns</p>\n",
       "</div>"
      ],
      "text/plain": [
       "               1  2  3  4  5  6  7  8  9  10  ...  23  24  25  26  27  28  29  \\\n",
       "customer_name                                 ...                               \n",
       "Adams          0  0  0  0  0  0  0  0  0   0  ...   0   0   0   0   0   0   1   \n",
       "Allen          0  0  0  0  0  0  0  0  1   0  ...   0   0   0   0   1   0   0   \n",
       "Anderson       0  0  0  0  0  0  0  0  0   0  ...   0   1   0   1   0   0   0   \n",
       "Bailey         0  0  0  0  0  0  1  0  0   0  ...   0   0   0   0   0   0   0   \n",
       "Baker          0  0  0  0  0  0  1  0  0   1  ...   0   0   0   0   0   0   0   \n",
       "\n",
       "               30  31  32  \n",
       "customer_name              \n",
       "Adams           1   0   0  \n",
       "Allen           0   0   0  \n",
       "Anderson        0   0   0  \n",
       "Bailey          1   0   0  \n",
       "Baker           0   1   0  \n",
       "\n",
       "[5 rows x 32 columns]"
      ]
     },
     "execution_count": 32,
     "metadata": {},
     "output_type": "execute_result"
    }
   ],
   "source": [
    "customer.head()"
   ]
  },
  {
   "cell_type": "markdown",
   "id": "8a8736f6",
   "metadata": {},
   "source": [
    "k_modes分類"
   ]
  },
  {
   "cell_type": "code",
   "execution_count": 33,
   "id": "fa0c298e",
   "metadata": {},
   "outputs": [],
   "source": [
    "from kmodes.kmodes import KModes\n",
    "km = KModes(n_clusters=4, init = \"Cao\", random_state=10)\n",
    "fitClusters = km.fit_predict(customer)"
   ]
  },
  {
   "cell_type": "markdown",
   "id": "7d59726c",
   "metadata": {},
   "source": [
    "每個分群中的資料數量"
   ]
  },
  {
   "cell_type": "code",
   "execution_count": 34,
   "id": "6c856459",
   "metadata": {},
   "outputs": [
    {
     "data": {
      "text/plain": [
       "0    89\n",
       "2     6\n",
       "3     3\n",
       "1     2\n",
       "dtype: int64"
      ]
     },
     "execution_count": 34,
     "metadata": {},
     "output_type": "execute_result"
    }
   ],
   "source": [
    "pd.Series(fitClusters).value_counts()"
   ]
  },
  {
   "cell_type": "code",
   "execution_count": null,
   "id": "09e18b1f",
   "metadata": {},
   "outputs": [],
   "source": []
  }
 ],
 "metadata": {
  "kernelspec": {
   "display_name": "Python 3 (ipykernel)",
   "language": "python",
   "name": "python3"
  },
  "language_info": {
   "codemirror_mode": {
    "name": "ipython",
    "version": 3
   },
   "file_extension": ".py",
   "mimetype": "text/x-python",
   "name": "python",
   "nbconvert_exporter": "python",
   "pygments_lexer": "ipython3",
   "version": "3.9.12"
  }
 },
 "nbformat": 4,
 "nbformat_minor": 5
}
